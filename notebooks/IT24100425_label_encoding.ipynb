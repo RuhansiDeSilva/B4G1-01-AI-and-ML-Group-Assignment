{
 "cells": [
  {
   "cell_type": "code",
   "execution_count": 1,
   "id": "29ba7667-31a0-42ff-97ae-9738e507a280",
   "metadata": {},
   "outputs": [],
   "source": [
    "import pandas as pd\n",
    "import matplotlib.pyplot as plt\n",
    "import seaborn as sns"
   ]
  },
  {
   "cell_type": "code",
   "execution_count": 3,
   "id": "a6dd4ec0-08b4-498c-8d06-b5107f4ea1c7",
   "metadata": {},
   "outputs": [],
   "source": [
    "\n",
    "df = pd.read_csv(\"IT24100548_outliers.csv\")\n",
    "\n"
   ]
  },
  {
   "cell_type": "code",
   "execution_count": 4,
   "id": "5c7fdbca-5340-41b2-9491-9ce368059166",
   "metadata": {},
   "outputs": [
    {
     "data": {
      "text/html": [
       "<div>\n",
       "<style scoped>\n",
       "    .dataframe tbody tr th:only-of-type {\n",
       "        vertical-align: middle;\n",
       "    }\n",
       "\n",
       "    .dataframe tbody tr th {\n",
       "        vertical-align: top;\n",
       "    }\n",
       "\n",
       "    .dataframe thead th {\n",
       "        text-align: right;\n",
       "    }\n",
       "</style>\n",
       "<table border=\"1\" class=\"dataframe\">\n",
       "  <thead>\n",
       "    <tr style=\"text-align: right;\">\n",
       "      <th></th>\n",
       "      <th>student_id</th>\n",
       "      <th>origin_country</th>\n",
       "      <th>destination_country</th>\n",
       "      <th>destination_city</th>\n",
       "      <th>university_name</th>\n",
       "      <th>course_name</th>\n",
       "      <th>field_of_study</th>\n",
       "      <th>year_of_enrollment</th>\n",
       "      <th>scholarship_received</th>\n",
       "      <th>enrollment_reason</th>\n",
       "      <th>graduation_year</th>\n",
       "      <th>placement_status</th>\n",
       "      <th>placement_country</th>\n",
       "      <th>placement_company</th>\n",
       "      <th>starting_salary_usd</th>\n",
       "      <th>gpa_or_score</th>\n",
       "      <th>visa_status</th>\n",
       "      <th>post_graduation_visa</th>\n",
       "      <th>language_proficiency_test</th>\n",
       "      <th>test_score</th>\n",
       "    </tr>\n",
       "  </thead>\n",
       "  <tbody>\n",
       "    <tr>\n",
       "      <th>0</th>\n",
       "      <td>S00001</td>\n",
       "      <td>Finland</td>\n",
       "      <td>Russia</td>\n",
       "      <td>Moscow</td>\n",
       "      <td>Lomonosov Moscow State University</td>\n",
       "      <td>Computer Science</td>\n",
       "      <td>Engineering</td>\n",
       "      <td>2021</td>\n",
       "      <td>No</td>\n",
       "      <td>Higher Ranking</td>\n",
       "      <td>2024</td>\n",
       "      <td>Placed</td>\n",
       "      <td>Russia</td>\n",
       "      <td>Microsoft</td>\n",
       "      <td>36416</td>\n",
       "      <td>3.92</td>\n",
       "      <td>Tier 4</td>\n",
       "      <td>Work Permit</td>\n",
       "      <td>TOEFL</td>\n",
       "      <td>7.8</td>\n",
       "    </tr>\n",
       "    <tr>\n",
       "      <th>1</th>\n",
       "      <td>S00002</td>\n",
       "      <td>United Kingdom</td>\n",
       "      <td>Germany</td>\n",
       "      <td>Aachen</td>\n",
       "      <td>RWTH Aachen</td>\n",
       "      <td>Civil Engineering</td>\n",
       "      <td>Law</td>\n",
       "      <td>2023</td>\n",
       "      <td>Yes</td>\n",
       "      <td>Job Opportunities</td>\n",
       "      <td>2024</td>\n",
       "      <td>Placed</td>\n",
       "      <td>Germany</td>\n",
       "      <td>Google</td>\n",
       "      <td>32956</td>\n",
       "      <td>2.60</td>\n",
       "      <td>Study Permit</td>\n",
       "      <td>OPT</td>\n",
       "      <td>PTE</td>\n",
       "      <td>7.9</td>\n",
       "    </tr>\n",
       "    <tr>\n",
       "      <th>2</th>\n",
       "      <td>S00005</td>\n",
       "      <td>South Africa</td>\n",
       "      <td>Germany</td>\n",
       "      <td>Stuttgart</td>\n",
       "      <td>University of Stuttgart</td>\n",
       "      <td>Business Administration</td>\n",
       "      <td>Law</td>\n",
       "      <td>2020</td>\n",
       "      <td>Yes</td>\n",
       "      <td>Political Stability</td>\n",
       "      <td>2021</td>\n",
       "      <td>Placed</td>\n",
       "      <td>Germany</td>\n",
       "      <td>IBM</td>\n",
       "      <td>54790</td>\n",
       "      <td>2.96</td>\n",
       "      <td>Schengen Student Visa</td>\n",
       "      <td>OPT</td>\n",
       "      <td>PTE</td>\n",
       "      <td>8.2</td>\n",
       "    </tr>\n",
       "    <tr>\n",
       "      <th>3</th>\n",
       "      <td>S00006</td>\n",
       "      <td>United Arab Emirates</td>\n",
       "      <td>South Africa</td>\n",
       "      <td>Pretoria</td>\n",
       "      <td>University of Pretoria</td>\n",
       "      <td>Mechanical Engineering</td>\n",
       "      <td>Engineering</td>\n",
       "      <td>2022</td>\n",
       "      <td>Yes</td>\n",
       "      <td>Job Opportunities</td>\n",
       "      <td>2023</td>\n",
       "      <td>Not Placed</td>\n",
       "      <td>No Placement</td>\n",
       "      <td>No Placement</td>\n",
       "      <td>0</td>\n",
       "      <td>2.69</td>\n",
       "      <td>J1</td>\n",
       "      <td>Blue Card</td>\n",
       "      <td>TOEFL</td>\n",
       "      <td>7.4</td>\n",
       "    </tr>\n",
       "    <tr>\n",
       "      <th>4</th>\n",
       "      <td>S00007</td>\n",
       "      <td>United Arab Emirates</td>\n",
       "      <td>United Kingdom</td>\n",
       "      <td>Edinburgh</td>\n",
       "      <td>University of Edinburgh</td>\n",
       "      <td>Architecture</td>\n",
       "      <td>Law</td>\n",
       "      <td>2019</td>\n",
       "      <td>Yes</td>\n",
       "      <td>Quality of Life</td>\n",
       "      <td>2021</td>\n",
       "      <td>Not Placed</td>\n",
       "      <td>No Placement</td>\n",
       "      <td>No Placement</td>\n",
       "      <td>0</td>\n",
       "      <td>2.99</td>\n",
       "      <td>Study Permit</td>\n",
       "      <td>Blue Card</td>\n",
       "      <td>Duolingo</td>\n",
       "      <td>5.6</td>\n",
       "    </tr>\n",
       "  </tbody>\n",
       "</table>\n",
       "</div>"
      ],
      "text/plain": [
       "  student_id        origin_country destination_country destination_city  \\\n",
       "0     S00001               Finland              Russia           Moscow   \n",
       "1     S00002        United Kingdom             Germany           Aachen   \n",
       "2     S00005          South Africa             Germany        Stuttgart   \n",
       "3     S00006  United Arab Emirates        South Africa         Pretoria   \n",
       "4     S00007  United Arab Emirates      United Kingdom        Edinburgh   \n",
       "\n",
       "                     university_name              course_name field_of_study  \\\n",
       "0  Lomonosov Moscow State University         Computer Science    Engineering   \n",
       "1                        RWTH Aachen        Civil Engineering            Law   \n",
       "2            University of Stuttgart  Business Administration            Law   \n",
       "3             University of Pretoria   Mechanical Engineering    Engineering   \n",
       "4            University of Edinburgh             Architecture            Law   \n",
       "\n",
       "   year_of_enrollment scholarship_received    enrollment_reason  \\\n",
       "0                2021                   No       Higher Ranking   \n",
       "1                2023                  Yes    Job Opportunities   \n",
       "2                2020                  Yes  Political Stability   \n",
       "3                2022                  Yes    Job Opportunities   \n",
       "4                2019                  Yes      Quality of Life   \n",
       "\n",
       "   graduation_year placement_status placement_country placement_company  \\\n",
       "0             2024           Placed            Russia         Microsoft   \n",
       "1             2024           Placed           Germany            Google   \n",
       "2             2021           Placed           Germany               IBM   \n",
       "3             2023       Not Placed      No Placement      No Placement   \n",
       "4             2021       Not Placed      No Placement      No Placement   \n",
       "\n",
       "   starting_salary_usd  gpa_or_score            visa_status  \\\n",
       "0                36416          3.92                 Tier 4   \n",
       "1                32956          2.60           Study Permit   \n",
       "2                54790          2.96  Schengen Student Visa   \n",
       "3                    0          2.69                     J1   \n",
       "4                    0          2.99           Study Permit   \n",
       "\n",
       "  post_graduation_visa language_proficiency_test  test_score  \n",
       "0          Work Permit                     TOEFL         7.8  \n",
       "1                  OPT                       PTE         7.9  \n",
       "2                  OPT                       PTE         8.2  \n",
       "3            Blue Card                     TOEFL         7.4  \n",
       "4            Blue Card                  Duolingo         5.6  "
      ]
     },
     "execution_count": 4,
     "metadata": {},
     "output_type": "execute_result"
    }
   ],
   "source": [
    "df.head()"
   ]
  },
  {
   "cell_type": "code",
   "execution_count": 5,
   "id": "771d1977-4c47-40dd-85ef-b51f658d776e",
   "metadata": {},
   "outputs": [
    {
     "data": {
      "text/html": [
       "<div>\n",
       "<style scoped>\n",
       "    .dataframe tbody tr th:only-of-type {\n",
       "        vertical-align: middle;\n",
       "    }\n",
       "\n",
       "    .dataframe tbody tr th {\n",
       "        vertical-align: top;\n",
       "    }\n",
       "\n",
       "    .dataframe thead th {\n",
       "        text-align: right;\n",
       "    }\n",
       "</style>\n",
       "<table border=\"1\" class=\"dataframe\">\n",
       "  <thead>\n",
       "    <tr style=\"text-align: right;\">\n",
       "      <th></th>\n",
       "      <th>student_id</th>\n",
       "      <th>origin_country</th>\n",
       "      <th>destination_country</th>\n",
       "      <th>destination_city</th>\n",
       "      <th>university_name</th>\n",
       "      <th>course_name</th>\n",
       "      <th>field_of_study</th>\n",
       "      <th>year_of_enrollment</th>\n",
       "      <th>scholarship_received</th>\n",
       "      <th>enrollment_reason</th>\n",
       "      <th>graduation_year</th>\n",
       "      <th>placement_status</th>\n",
       "      <th>placement_country</th>\n",
       "      <th>placement_company</th>\n",
       "      <th>starting_salary_usd</th>\n",
       "      <th>gpa_or_score</th>\n",
       "      <th>visa_status</th>\n",
       "      <th>post_graduation_visa</th>\n",
       "      <th>language_proficiency_test</th>\n",
       "      <th>test_score</th>\n",
       "    </tr>\n",
       "  </thead>\n",
       "  <tbody>\n",
       "    <tr>\n",
       "      <th>4013</th>\n",
       "      <td>S04996</td>\n",
       "      <td>Canada</td>\n",
       "      <td>Germany</td>\n",
       "      <td>Stuttgart</td>\n",
       "      <td>University of Stuttgart</td>\n",
       "      <td>Political Science</td>\n",
       "      <td>Engineering</td>\n",
       "      <td>2023</td>\n",
       "      <td>No</td>\n",
       "      <td>Scholarship</td>\n",
       "      <td>2024</td>\n",
       "      <td>Placed</td>\n",
       "      <td>Germany</td>\n",
       "      <td>Facebook</td>\n",
       "      <td>98568</td>\n",
       "      <td>3.96</td>\n",
       "      <td>Tier 4</td>\n",
       "      <td>Post-Study Visa</td>\n",
       "      <td>Duolingo</td>\n",
       "      <td>6.9</td>\n",
       "    </tr>\n",
       "    <tr>\n",
       "      <th>4014</th>\n",
       "      <td>S04997</td>\n",
       "      <td>India</td>\n",
       "      <td>Ireland</td>\n",
       "      <td>Maynooth</td>\n",
       "      <td>Maynooth University</td>\n",
       "      <td>Political Science</td>\n",
       "      <td>Law</td>\n",
       "      <td>2023</td>\n",
       "      <td>Yes</td>\n",
       "      <td>Quality of Life</td>\n",
       "      <td>2026</td>\n",
       "      <td>Placed</td>\n",
       "      <td>Ireland</td>\n",
       "      <td>Deloitte</td>\n",
       "      <td>32643</td>\n",
       "      <td>3.93</td>\n",
       "      <td>F1</td>\n",
       "      <td>PSW</td>\n",
       "      <td>TOEFL</td>\n",
       "      <td>7.5</td>\n",
       "    </tr>\n",
       "    <tr>\n",
       "      <th>4015</th>\n",
       "      <td>S04998</td>\n",
       "      <td>United Kingdom</td>\n",
       "      <td>India</td>\n",
       "      <td>Bangalore</td>\n",
       "      <td>IISc Bangalore</td>\n",
       "      <td>Finance</td>\n",
       "      <td>Natural Sciences</td>\n",
       "      <td>2023</td>\n",
       "      <td>Yes</td>\n",
       "      <td>Scholarship</td>\n",
       "      <td>2026</td>\n",
       "      <td>Placed</td>\n",
       "      <td>India</td>\n",
       "      <td>Tesla</td>\n",
       "      <td>100777</td>\n",
       "      <td>3.76</td>\n",
       "      <td>Study Permit</td>\n",
       "      <td>Post-Study Visa</td>\n",
       "      <td>TOEFL</td>\n",
       "      <td>8.8</td>\n",
       "    </tr>\n",
       "    <tr>\n",
       "      <th>4016</th>\n",
       "      <td>S04999</td>\n",
       "      <td>Germany</td>\n",
       "      <td>Russia</td>\n",
       "      <td>Saint Petersburg</td>\n",
       "      <td>Saint Petersburg State University</td>\n",
       "      <td>Biotechnology</td>\n",
       "      <td>Business</td>\n",
       "      <td>2020</td>\n",
       "      <td>Yes</td>\n",
       "      <td>Scholarship</td>\n",
       "      <td>2022</td>\n",
       "      <td>Not Placed</td>\n",
       "      <td>No Placement</td>\n",
       "      <td>No Placement</td>\n",
       "      <td>0</td>\n",
       "      <td>3.72</td>\n",
       "      <td>Schengen Student Visa</td>\n",
       "      <td>Blue Card</td>\n",
       "      <td>IELTS</td>\n",
       "      <td>8.6</td>\n",
       "    </tr>\n",
       "    <tr>\n",
       "      <th>4017</th>\n",
       "      <td>S05000</td>\n",
       "      <td>Finland</td>\n",
       "      <td>Germany</td>\n",
       "      <td>Stuttgart</td>\n",
       "      <td>University of Stuttgart</td>\n",
       "      <td>Mechanical Engineering</td>\n",
       "      <td>Arts</td>\n",
       "      <td>2023</td>\n",
       "      <td>No</td>\n",
       "      <td>Scholarship</td>\n",
       "      <td>2026</td>\n",
       "      <td>Placed</td>\n",
       "      <td>Germany</td>\n",
       "      <td>IBM</td>\n",
       "      <td>72268</td>\n",
       "      <td>3.78</td>\n",
       "      <td>Schengen Student Visa</td>\n",
       "      <td>Work Permit</td>\n",
       "      <td>PTE</td>\n",
       "      <td>5.6</td>\n",
       "    </tr>\n",
       "  </tbody>\n",
       "</table>\n",
       "</div>"
      ],
      "text/plain": [
       "     student_id  origin_country destination_country  destination_city  \\\n",
       "4013     S04996          Canada             Germany         Stuttgart   \n",
       "4014     S04997           India             Ireland          Maynooth   \n",
       "4015     S04998  United Kingdom               India         Bangalore   \n",
       "4016     S04999         Germany              Russia  Saint Petersburg   \n",
       "4017     S05000         Finland             Germany         Stuttgart   \n",
       "\n",
       "                        university_name             course_name  \\\n",
       "4013            University of Stuttgart       Political Science   \n",
       "4014                Maynooth University       Political Science   \n",
       "4015                     IISc Bangalore                 Finance   \n",
       "4016  Saint Petersburg State University           Biotechnology   \n",
       "4017            University of Stuttgart  Mechanical Engineering   \n",
       "\n",
       "        field_of_study  year_of_enrollment scholarship_received  \\\n",
       "4013       Engineering                2023                   No   \n",
       "4014               Law                2023                  Yes   \n",
       "4015  Natural Sciences                2023                  Yes   \n",
       "4016          Business                2020                  Yes   \n",
       "4017              Arts                2023                   No   \n",
       "\n",
       "     enrollment_reason  graduation_year placement_status placement_country  \\\n",
       "4013       Scholarship             2024           Placed           Germany   \n",
       "4014   Quality of Life             2026           Placed           Ireland   \n",
       "4015       Scholarship             2026           Placed             India   \n",
       "4016       Scholarship             2022       Not Placed      No Placement   \n",
       "4017       Scholarship             2026           Placed           Germany   \n",
       "\n",
       "     placement_company  starting_salary_usd  gpa_or_score  \\\n",
       "4013          Facebook                98568          3.96   \n",
       "4014          Deloitte                32643          3.93   \n",
       "4015             Tesla               100777          3.76   \n",
       "4016      No Placement                    0          3.72   \n",
       "4017               IBM                72268          3.78   \n",
       "\n",
       "                visa_status post_graduation_visa language_proficiency_test  \\\n",
       "4013                 Tier 4      Post-Study Visa                  Duolingo   \n",
       "4014                     F1                  PSW                     TOEFL   \n",
       "4015           Study Permit      Post-Study Visa                     TOEFL   \n",
       "4016  Schengen Student Visa            Blue Card                     IELTS   \n",
       "4017  Schengen Student Visa          Work Permit                       PTE   \n",
       "\n",
       "      test_score  \n",
       "4013         6.9  \n",
       "4014         7.5  \n",
       "4015         8.8  \n",
       "4016         8.6  \n",
       "4017         5.6  "
      ]
     },
     "execution_count": 5,
     "metadata": {},
     "output_type": "execute_result"
    }
   ],
   "source": [
    "df.tail()"
   ]
  },
  {
   "cell_type": "markdown",
   "id": "521a42fd-390c-4c33-b896-8c0591e18d23",
   "metadata": {},
   "source": [
    " Label Encode "
   ]
  },
  {
   "cell_type": "code",
   "execution_count": 6,
   "id": "a6ea4661-dd76-42cb-8e94-1f3ec8e1ddc5",
   "metadata": {},
   "outputs": [],
   "source": [
    "from sklearn.preprocessing import LabelEncoder"
   ]
  },
  {
   "cell_type": "code",
   "execution_count": 7,
   "id": "f03cff0c-d3e3-4add-9e5a-94ad97eebfdb",
   "metadata": {},
   "outputs": [],
   "source": [
    "label = LabelEncoder()\n"
   ]
  },
  {
   "cell_type": "code",
   "execution_count": 8,
   "id": "1ccea5b9-c3fd-483d-99a0-aa902485df81",
   "metadata": {},
   "outputs": [
    {
     "data": {
      "text/plain": [
       "array(['Placed', 'Not Placed'], dtype=object)"
      ]
     },
     "execution_count": 8,
     "metadata": {},
     "output_type": "execute_result"
    }
   ],
   "source": [
    "df['placement_status'].unique()"
   ]
  },
  {
   "cell_type": "code",
   "execution_count": 9,
   "id": "80696cbd-ca81-4996-b60c-5191b7a6c392",
   "metadata": {},
   "outputs": [],
   "source": [
    "df['placement_status'] = label.fit_transform(df['placement_status'])"
   ]
  },
  {
   "cell_type": "code",
   "execution_count": 10,
   "id": "4c62ca6a-f76a-4339-871b-cfbc4ed2a5a2",
   "metadata": {},
   "outputs": [
    {
     "data": {
      "text/plain": [
       "array([1, 0])"
      ]
     },
     "execution_count": 10,
     "metadata": {},
     "output_type": "execute_result"
    }
   ],
   "source": [
    "df['placement_status'].unique()"
   ]
  },
  {
   "cell_type": "code",
   "execution_count": 11,
   "id": "5062ad58-9a96-41d7-95df-428f85864dd6",
   "metadata": {},
   "outputs": [
    {
     "data": {
      "image/png": "[encoded data removed]",
      "text/plain": [
       "<Figure size 800x500 with 1 Axes>"
      ]
     },
     "metadata": {},
     "output_type": "display_data"
    }
   ],
   "source": [
    "plt.figure(figsize=(8,5))\n",
    "sns.countplot(x='placement_status',data=df,hue='placement_status',palette='viridis',legend=False)\n",
    "plt.title=('placement status distribution')\n",
    "plt.show()"
   ]
  },
  {
   "cell_type": "code",
   "execution_count": 12,
   "id": "a223bc2c-8e69-4659-9ae6-027c2ffecff0",
   "metadata": {},
   "outputs": [
    {
     "data": {
      "text/plain": [
       "array(['No', 'Yes'], dtype=object)"
      ]
     },
     "execution_count": 12,
     "metadata": {},
     "output_type": "execute_result"
    }
   ],
   "source": [
    "df['scholarship_received'].unique()"
   ]
  },
  {
   "cell_type": "code",
   "execution_count": 13,
   "id": "34202694-1d9d-4d19-9c9c-c64b2b5c84d3",
   "metadata": {},
   "outputs": [],
   "source": [
    "df['scholarship_received'] = label.fit_transform(df['scholarship_received'])"
   ]
  },
  {
   "cell_type": "code",
   "execution_count": 14,
   "id": "d52d16f2-66b8-406c-96f7-432aa5ea1a80",
   "metadata": {},
   "outputs": [
    {
     "data": {
      "text/plain": [
       "array([0, 1])"
      ]
     },
     "execution_count": 14,
     "metadata": {},
     "output_type": "execute_result"
    }
   ],
   "source": [
    "df['scholarship_received'].unique()"
   ]
  },
  {
   "cell_type": "code",
   "execution_count": 15,
   "id": "059f58c6-f2db-4d44-8477-c595d10fdbf4",
   "metadata": {},
   "outputs": [
    {
     "data": {
      "image/png": "[encoded data removed]",
      "text/plain": [
       "<Figure size 800x500 with 1 Axes>"
      ]
     },
     "metadata": {},
     "output_type": "display_data"
    }
   ],
   "source": [
    "plt.figure(figsize=(8,5))\n",
    "sns.countplot(x='scholarship_received',data=df,hue='scholarship_received',palette='viridis',legend=False)\n",
    "plt.title=('scholaship received distribution') \n",
    "plt.show()"
   ]
  },
  {
   "cell_type": "code",
   "execution_count": 16,
   "id": "bb9221ce-60d8-4087-8a1a-b573ee4ecf67",
   "metadata": {},
   "outputs": [],
   "source": [
    "df.to_csv(\"IT24100425_LabelEncoding.csv\", index=False)\n"
   ]
  },
  {
   "cell_type": "code",
   "execution_count": null,
   "id": "526e10b8-ed40-4ddc-a643-8f0c1f549904",
   "metadata": {},
   "outputs": [],
   "source": []
  },
  {
   "cell_type": "code",
   "execution_count": null,
   "id": "ec550855-57bb-4583-8d87-da2cc5864aaf",
   "metadata": {},
   "outputs": [],
   "source": []
  }
 ],
 "metadata": {
  "kernelspec": {
   "display_name": "Python 3 (ipykernel)",
   "language": "python",
   "name": "python3"
  },
  "language_info": {
   "codemirror_mode": {
    "name": "ipython",
    "version": 3
   },
   "file_extension": ".py",
   "mimetype": "text/x-python",
   "name": "python",
   "nbconvert_exporter": "python",
   "pygments_lexer": "ipython3",
   "version": "3.10.18"
  }
 },
 "nbformat": 4,
 "nbformat_minor": 5
}
