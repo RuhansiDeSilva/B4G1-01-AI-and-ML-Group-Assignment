{
 "cells": [
  {
   "cell_type": "code",
   "execution_count": 1,
   "id": "1207fdf2-15f8-4ad0-8dcd-32482420e6e1",
   "metadata": {},
   "outputs": [],
   "source": [
    "import pandas as pd "
   ]
  },
  {
   "cell_type": "code",
   "execution_count": 2,
   "id": "e01ecff2-0ea2-4167-a3ab-ea5022745dab",
   "metadata": {},
   "outputs": [],
   "source": [
    "data=pd.read_csv('IT24100387_one_hot_encoding.csv')"
   ]
  },
  {
   "cell_type": "code",
   "execution_count": 4,
   "id": "b9477610-2fc3-4f97-88b7-bc70bd08c67f",
   "metadata": {},
   "outputs": [
    {
     "data": {
      "text/plain": [
       "dtype('int64')"
      ]
     },
     "execution_count": 4,
     "metadata": {},
     "output_type": "execute_result"
    }
   ],
   "source": [
    "data['graduation_year'].dtype"
   ]
  },
  {
   "cell_type": "code",
   "execution_count": 5,
   "id": "2a0dd3e2-9363-453a-87d6-2891c7207cc6",
   "metadata": {},
   "outputs": [
    {
     "data": {
      "text/plain": [
       "dtype('int64')"
      ]
     },
     "execution_count": 5,
     "metadata": {},
     "output_type": "execute_result"
    }
   ],
   "source": [
    "data['year_of_enrollment'].dtype"
   ]
  },
  {
   "cell_type": "code",
   "execution_count": 6,
   "id": "ace9ee5c-c5f2-494a-b193-1d8f7fdccad0",
   "metadata": {},
   "outputs": [],
   "source": [
    "data['study_duration'] = data['graduation_year'] - data['year_of_enrollment']"
   ]
  },
  {
   "cell_type": "code",
   "execution_count": 10,
   "id": "1b556415-4d61-4254-8448-e484fd829f13",
   "metadata": {},
   "outputs": [
    {
     "data": {
      "text/plain": [
       "0    3\n",
       "1    1\n",
       "2    1\n",
       "3    1\n",
       "4    2\n",
       "Name: study_duration, dtype: int64"
      ]
     },
     "execution_count": 10,
     "metadata": {},
     "output_type": "execute_result"
    }
   ],
   "source": [
    "data['study_duration'].head()"
   ]
  },
  {
   "cell_type": "code",
   "execution_count": 7,
   "id": "725de006-14e9-458b-aa8c-bb5bae315e9c",
   "metadata": {},
   "outputs": [
    {
     "data": {
      "text/plain": [
       "dtype('int64')"
      ]
     },
     "execution_count": 7,
     "metadata": {},
     "output_type": "execute_result"
    }
   ],
   "source": [
    "data['study_duration'].dtype"
   ]
  },
  {
   "cell_type": "code",
   "execution_count": 11,
   "id": "234a1955-6523-4711-9eb6-6317fba8bcc0",
   "metadata": {},
   "outputs": [
    {
     "data": {
      "text/plain": [
       "(4018, 210)"
      ]
     },
     "execution_count": 11,
     "metadata": {},
     "output_type": "execute_result"
    }
   ],
   "source": [
    "data.shape"
   ]
  },
  {
   "cell_type": "code",
   "execution_count": 12,
   "id": "a655d74b-c7d2-4015-9bff-b3b5ec60ce7c",
   "metadata": {},
   "outputs": [],
   "source": [
    "data = data.drop(columns=['year_of_enrollment', 'graduation_year'])"
   ]
  },
  {
   "cell_type": "code",
   "execution_count": 13,
   "id": "0f6a53a5-22e7-42b2-8891-941408fea6f8",
   "metadata": {},
   "outputs": [
    {
     "data": {
      "text/plain": [
       "(4018, 208)"
      ]
     },
     "execution_count": 13,
     "metadata": {},
     "output_type": "execute_result"
    }
   ],
   "source": [
    "data.shape"
   ]
  },
  {
   "cell_type": "code",
   "execution_count": 15,
   "id": "de24e1f7-821c-4f10-be65-2f4417789fc9",
   "metadata": {},
   "outputs": [],
   "source": [
    "data.to_csv(\"IT24100391Feature_Engineering_Part01.csv\", index=False)\n"
   ]
  },
  {
   "cell_type": "code",
   "execution_count": null,
   "id": "f8e38289-c698-476d-baca-b77a3c39398e",
   "metadata": {},
   "outputs": [],
   "source": []
  }
 ],
 "metadata": {
  "kernelspec": {
   "display_name": "Python 3 (ipykernel)",
   "language": "python",
   "name": "python3"
  },
  "language_info": {
   "codemirror_mode": {
    "name": "ipython",
    "version": 3
   },
   "file_extension": ".py",
   "mimetype": "text/x-python",
   "name": "python",
   "nbconvert_exporter": "python",
   "pygments_lexer": "ipython3",
   "version": "3.10.18"
  }
 },
 "nbformat": 4,
 "nbformat_minor": 5
}
