{
 "cells": [
  {
   "cell_type": "code",
   "execution_count": 32,
   "id": "a34f62e8-fe5f-470d-9e68-f59f4d7c0ea0",
   "metadata": {},
   "outputs": [],
   "source": [
    "import pandas as pd\n",
    "import matplotlib.pyplot as plt"
   ]
  },
  {
   "cell_type": "code",
   "execution_count": 33,
   "id": "5f125625-3399-498d-819c-fb9f5b5f8977",
   "metadata": {},
   "outputs": [],
   "source": [
    "data=pd.read_csv('IT24103804_scaling.csv')"
   ]
  },
  {
   "cell_type": "code",
   "execution_count": 47,
   "id": "10c209b2-c403-47d2-9c3a-87dd1776360a",
   "metadata": {},
   "outputs": [],
   "source": [
    "data= data.drop(columns=['student_id'])"
   ]
  },
  {
   "cell_type": "code",
   "execution_count": 48,
   "id": "aba46971-cf44-44bf-b769-589e6b7467c6",
   "metadata": {},
   "outputs": [
    {
     "name": "stdout",
     "output_type": "stream",
     "text": [
      "count    4018.000000\n",
      "mean        0.298616\n",
      "std         0.339608\n",
      "min         0.000000\n",
      "25%         0.000000\n",
      "50%         0.204549\n",
      "75%         0.591583\n",
      "max         1.000000\n",
      "Name: starting_salary_usd, dtype: float64\n"
     ]
    },
    {
     "data": {
      "image/png": "[encoded data removed]",
      "text/plain": [
       "<Figure size 640x480 with 1 Axes>"
      ]
     },
     "metadata": {},
     "output_type": "display_data"
    }
   ],
   "source": [
    "print(data['starting_salary_usd'].describe())\n",
    "# Visualize distribution\n",
    "data['starting_salary_usd'].hist(bins=20)\n",
    "plt.title('Distribution of Starting Salary')\n",
    "plt.xlabel('Salary')\n",
    "plt.ylabel('Frequency')\n",
    "plt.show()\n",
    "\n",
    "\n",
    "\n",
    "\n"
   ]
  },
  {
   "cell_type": "code",
   "execution_count": 49,
   "id": "9fc2c947-8716-48c3-bf36-7128fa8c580e",
   "metadata": {},
   "outputs": [
    {
     "data": {
      "text/plain": [
       "0       0.242883\n",
       "1       0.219806\n",
       "2       0.365432\n",
       "3       0.000000\n",
       "4       0.000000\n",
       "          ...   \n",
       "4013    0.657418\n",
       "4014    0.217719\n",
       "4015    0.672151\n",
       "4016    0.000000\n",
       "4017    0.482005\n",
       "Name: starting_salary_usd, Length: 4018, dtype: float64"
      ]
     },
     "execution_count": 49,
     "metadata": {},
     "output_type": "execute_result"
    }
   ],
   "source": [
    "data['starting_salary_usd']\n"
   ]
  },
  {
   "cell_type": "code",
   "execution_count": 50,
   "id": "1ccd93ee-b75c-45ed-a873-c6912383f58f",
   "metadata": {},
   "outputs": [
    {
     "name": "stdout",
     "output_type": "stream",
     "text": [
      "Salary_Bin\n",
      "Low       2326\n",
      "Medium     874\n",
      "High       818\n",
      "Name: count, dtype: int64\n"
     ]
    }
   ],
   "source": [
    "# Define bins for normalized data (0 to 1)\n",
    "bins = [0, 0.333, 0.667, 1.0]\n",
    "labels = ['Low', 'Medium', 'High']\n",
    "\n",
    "\n",
    "data['Salary_Bin'] = pd.cut(data['starting_salary_usd'], bins=bins, labels=labels, include_lowest=True)\n",
    "\n",
    "# Check bin distribution\n",
    "print(data['Salary_Bin'].value_counts())"
   ]
  },
  {
   "cell_type": "code",
   "execution_count": 51,
   "id": "84ba8f3d-c2e4-4108-bb2f-5ad5437243ab",
   "metadata": {},
   "outputs": [],
   "source": [
    "# after creating salary bin feature . we do not drop starting salary usd feature because when we evaluvate decision tree model,Random Forest model that they can handle continuous variable and The continuous \"starting salary\" has  exact salary values"
   ]
  },
  {
   "cell_type": "code",
   "execution_count": 52,
   "id": "94dcb863-1fcc-485b-9529-81167f5d4f26",
   "metadata": {},
   "outputs": [
    {
     "data": {
      "text/plain": [
       "['Low', 'Medium', 'High']\n",
       "Categories (3, object): ['Low' < 'Medium' < 'High']"
      ]
     },
     "execution_count": 52,
     "metadata": {},
     "output_type": "execute_result"
    }
   ],
   "source": [
    "data['Salary_Bin'].unique()"
   ]
  },
  {
   "cell_type": "code",
   "execution_count": 53,
   "id": "99944b4d-869b-44fc-8a74-28f673421434",
   "metadata": {},
   "outputs": [],
   "source": [
    "# salary Bin has categoriacl data . Therfore it should be label encoded. "
   ]
  },
  {
   "cell_type": "code",
   "execution_count": 54,
   "id": "51eecba9-aaea-4ab5-a52f-3078a9ead7d9",
   "metadata": {},
   "outputs": [],
   "source": [
    "from sklearn.preprocessing import LabelEncoder"
   ]
  },
  {
   "cell_type": "code",
   "execution_count": 55,
   "id": "2df8fc99-e550-4f44-b07c-0423fb586319",
   "metadata": {},
   "outputs": [],
   "source": [
    "label = LabelEncoder()\n"
   ]
  },
  {
   "cell_type": "code",
   "execution_count": 56,
   "id": "270147de-37e8-47a9-beb4-1b6e7d305901",
   "metadata": {},
   "outputs": [],
   "source": [
    "data['Salary_Bin'] = label.fit_transform(data['Salary_Bin'])"
   ]
  },
  {
   "cell_type": "code",
   "execution_count": 57,
   "id": "f0d4a0ac-732f-4a79-bbd8-097c46c7f7f4",
   "metadata": {},
   "outputs": [
    {
     "data": {
      "text/plain": [
       "array([1, 2, 0])"
      ]
     },
     "execution_count": 57,
     "metadata": {},
     "output_type": "execute_result"
    }
   ],
   "source": [
    "data['Salary_Bin'].unique()"
   ]
  },
  {
   "cell_type": "markdown",
   "id": "dd81e4d4-5382-488b-a554-cf2e07c10690",
   "metadata": {},
   "source": [
    "Feature Selection Techniques"
   ]
  },
  {
   "cell_type": "code",
   "execution_count": 58,
   "id": "9777c63e-cf21-4d40-b8dc-82bb6466a41b",
   "metadata": {},
   "outputs": [
    {
     "name": "stdout",
     "output_type": "stream",
     "text": [
      "Number of features before used Variance Treshold:\n"
     ]
    },
    {
     "data": {
      "text/plain": [
       "(4018, 208)"
      ]
     },
     "execution_count": 58,
     "metadata": {},
     "output_type": "execute_result"
    }
   ],
   "source": [
    "print(\"Number of features before used Variance Treshold:\")\n",
    "data.shape"
   ]
  },
  {
   "cell_type": "raw",
   "id": "52d457ee-fb4e-477c-9c10-dd5ecf8cadff",
   "metadata": {},
   "source": [
    "Variance Treshold"
   ]
  },
  {
   "cell_type": "code",
   "execution_count": 60,
   "id": "e35795be-4762-4f70-a45c-32204cbebc60",
   "metadata": {},
   "outputs": [],
   "source": [
    "from sklearn.feature_selection import VarianceThreshold\n",
    "\n",
    "selector = VarianceThreshold(threshold=0.01)  \n",
    "reduced_data = selector.fit_transform(data.drop('placement_status', axis=1))\n",
    "\n"
   ]
  },
  {
   "cell_type": "code",
   "execution_count": 61,
   "id": "1727a166-7c61-4f98-9160-201bc0ecdbdc",
   "metadata": {},
   "outputs": [
    {
     "name": "stdout",
     "output_type": "stream",
     "text": [
      "Number of features after used Variance Treshold:\n"
     ]
    },
    {
     "data": {
      "text/plain": [
       "(4018, 208)"
      ]
     },
     "execution_count": 61,
     "metadata": {},
     "output_type": "execute_result"
    }
   ],
   "source": [
    "print(\"Number of features after used Variance Treshold:\")\n",
    "data.shape"
   ]
  },
  {
   "cell_type": "code",
   "execution_count": 62,
   "id": "79f4dc7a-109a-4db0-908d-f1c37d2d324d",
   "metadata": {},
   "outputs": [],
   "source": [
    "#Variance Treshold is used to find constant features . \n",
    "#But in this data set doesn't have constant features or low variance features to drop ."
   ]
  },
  {
   "cell_type": "raw",
   "id": "8326f387-b752-44b0-87f7-f1b8348ed868",
   "metadata": {},
   "source": [
    "Correlation"
   ]
  },
  {
   "cell_type": "code",
   "execution_count": 64,
   "id": "1b4a3467-f011-4666-a4a5-a76deacb3c06",
   "metadata": {},
   "outputs": [],
   "source": [
    "import numpy as np"
   ]
  },
  {
   "cell_type": "code",
   "execution_count": 65,
   "id": "93f43360-70c8-43a9-a28c-cd3f0bef75b8",
   "metadata": {},
   "outputs": [
    {
     "name": "stdout",
     "output_type": "stream",
     "text": [
      "Dropped due to correlation: 36\n"
     ]
    }
   ],
   "source": [
    "corr_matrix = data.corr(numeric_only=True)\n",
    "upper = corr_matrix.where(np.triu(np.ones(corr_matrix.shape), k=1).astype(bool))\n",
    "to_drop = [column for column in upper.columns if any(upper[column] > 0.9)]\n",
    "data_filtered = data.drop(to_drop, axis=1)\n",
    "print(\"Dropped due to correlation:\", len(to_drop))\n"
   ]
  },
  {
   "cell_type": "code",
   "execution_count": 66,
   "id": "5fdb90f0-5546-433c-b709-23f616857948",
   "metadata": {},
   "outputs": [
    {
     "name": "stdout",
     "output_type": "stream",
     "text": [
      "Columns dropped due to high correlation:\n",
      "['university_name_American University of Sharjah', 'university_name_BITS Pilani', 'university_name_Heidelberg University', 'university_name_IISc Bangalore', 'university_name_IIT Bombay', 'university_name_IIT Madras', 'university_name_Kazan Federal University', 'university_name_LUT University', 'university_name_Maynooth University', 'university_name_McGill University', 'university_name_NIT Trichy', 'university_name_National University of Ireland Galway', 'university_name_Novosibirsk State University', \"university_name_Queen's University\", 'university_name_Rhodes University', 'university_name_Saint Petersburg State University', 'university_name_Stellenbosch University', 'university_name_Tampere University', 'university_name_UCLA', 'university_name_University College Cork', 'university_name_University of Alberta', 'university_name_University of Birmingham', 'university_name_University of Cambridge', 'university_name_University of Cape Town', 'university_name_University of Chicago', 'university_name_University of Eastern Finland', 'university_name_University of Edinburgh', 'university_name_University of Helsinki', 'university_name_University of KwaZulu-Natal', 'university_name_University of Manchester', 'university_name_University of Ottawa', 'university_name_University of Oxford', 'university_name_University of Pretoria', 'university_name_University of Stuttgart', 'university_name_University of Toronto', 'placement_company_No Placement']\n"
     ]
    }
   ],
   "source": [
    "print(\"Columns dropped due to high correlation:\")\n",
    "print(to_drop)\n"
   ]
  },
  {
   "cell_type": "code",
   "execution_count": 67,
   "id": "597456d6-1aa7-4f1a-9770-6f1f3a04064b",
   "metadata": {},
   "outputs": [
    {
     "data": {
      "text/plain": [
       "(4018, 172)"
      ]
     },
     "execution_count": 67,
     "metadata": {},
     "output_type": "execute_result"
    }
   ],
   "source": [
    "data_filtered.shape"
   ]
  },
  {
   "cell_type": "code",
   "execution_count": 68,
   "id": "68d5293f-6810-46e2-90a4-971a862bdb8b",
   "metadata": {},
   "outputs": [],
   "source": [
    "data_filtered.to_csv(\"IT24100391_Feature_Engineering_Part_02.csv\", index=False)\n"
   ]
  },
  {
   "cell_type": "code",
   "execution_count": null,
   "id": "18b2c269-67e8-40aa-ab6a-2ec4b84c9174",
   "metadata": {},
   "outputs": [],
   "source": []
  }
 ],
 "metadata": {
  "kernelspec": {
   "display_name": "Python 3 (ipykernel)",
   "language": "python",
   "name": "python3"
  },
  "language_info": {
   "codemirror_mode": {
    "name": "ipython",
    "version": 3
   },
   "file_extension": ".py",
   "mimetype": "text/x-python",
   "name": "python",
   "nbconvert_exporter": "python",
   "pygments_lexer": "ipython3",
   "version": "3.10.18"
  }
 },
 "nbformat": 4,
 "nbformat_minor": 5
}
